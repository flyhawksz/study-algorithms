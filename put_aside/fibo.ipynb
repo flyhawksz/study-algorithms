{
 "cells": [
  {
   "cell_type": "code",
   "execution_count": 1,
   "metadata": {
    "collapsed": true
   },
   "outputs": [],
   "source": [
    "# coding = utf-8\n",
    "def fib(i):\n",
    "    if i <= 2:\n",
    "        return i\n",
    "    else:\n",
    "        return(fib(i - 1) + fib(i - 2))\n",
    "    "
   ]
  },
  {
   "cell_type": "code",
   "execution_count": 5,
   "metadata": {},
   "outputs": [
    {
     "name": "stdout",
     "output_type": "stream",
     "text": [
      "鎮ㄨ�杈撳嚭鍑犻」? 10\n",
      "斐波那契数列:\n",
      "55\n",
      "0\n",
      "1\n",
      "2\n",
      "3\n",
      "5\n",
      "8\n",
      "13\n",
      "21\n",
      "34\n",
      "55\n"
     ]
    }
   ],
   "source": [
    "# 获取用户输入\n",
    "nterms = int(input(\"您要输出几项? \"))\n",
    "\n",
    "# 检查输入的数字是否正确\n",
    "if nterms <= 0:\n",
    "    print(\"输入正数\")\n",
    "else:\n",
    "    print(\"斐波那契数列:\")\n",
    "    print(fib(i))\n",
    "    for i in range(nterms):\n",
    "        print(fib(i))"
   ]
  },
  {
   "cell_type": "code",
   "execution_count": null,
   "metadata": {
    "collapsed": true
   },
   "outputs": [],
   "source": []
  }
 ],
 "metadata": {
  "kernelspec": {
   "display_name": "Python 2",
   "language": "python",
   "name": "python2"
  },
  "language_info": {
   "codemirror_mode": {
    "name": "ipython",
    "version": 2
   },
   "file_extension": ".py",
   "mimetype": "text/x-python",
   "name": "python",
   "nbconvert_exporter": "python",
   "pygments_lexer": "ipython2",
   "version": "2.7.10"
  }
 },
 "nbformat": 4,
 "nbformat_minor": 2
}
